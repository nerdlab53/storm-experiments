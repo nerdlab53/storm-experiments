{
 "cells": [
  {
   "cell_type": "code",
   "execution_count": 1,
   "id": "17e45e1e",
   "metadata": {},
   "outputs": [],
   "source": [
    "import torch\n",
    "def get_per_head_fixed_mask_causal(batch_length, mask_percents, flag, soft, device, soft_penalty=-1.0) -> torch.Tensor:\n",
    "    num_heads = len(mask_percents)\n",
    "    mask = torch.full((1, num_heads, batch_length, batch_length), float('-inf'), device=device)\n",
    "    for h in range(num_heads):\n",
    "        indices = torch.tril_indices(batch_length, batch_length, offset=0, device=device)\n",
    "        mask[0, h, indices[0], indices[1]] = 0.0\n",
    "        \n",
    "        for i in range(1, batch_length):\n",
    "            idx = torch.arange(0, i, device=device)\n",
    "            num_tokens = min(int(len(idx) * mask_percents[h]), len(idx))\n",
    "            if num_tokens > 0:\n",
    "                if not flag:\n",
    "                    to_mask = idx[:num_tokens]\n",
    "                else:\n",
    "                    to_mask = idx[torch.randperm(len(idx), device=device)[:num_tokens]]\n",
    "                if soft:\n",
    "                    mask[0, h, i, to_mask] = soft_penalty\n",
    "                else:\n",
    "                    mask[0, h, i, to_mask] = float('-inf')\n",
    "    return mask"
   ]
  },
  {
   "cell_type": "code",
   "execution_count": 9,
   "id": "21d72ab3",
   "metadata": {},
   "outputs": [],
   "source": [
    "from mask_visualization import visualize_multi_head_masks, quick_demo\n",
    "\n",
    "# This will now work perfectly!\n",
    "fig = visualize_multi_head_masks(\n",
    "    batch_length=64,\n",
    "    mask_percents=[0.0, 0.05, 0.10, 0.15, 0.25, 0.35, 0.45, 0.50],\n",
    "    flag=False,     # Sequential masking\n",
    "    soft=False,      # Soft penalties\n",
    "    device='cpu'\n",
    ")\n",
    "fig.savefig('my_masks.png')"
   ]
  },
  {
   "cell_type": "code",
   "execution_count": null,
   "id": "ea9876d0",
   "metadata": {},
   "outputs": [],
   "source": []
  }
 ],
 "metadata": {
  "kernelspec": {
   "display_name": "torch2",
   "language": "python",
   "name": "torch2"
  },
  "language_info": {
   "codemirror_mode": {
    "name": "ipython",
    "version": 3
   },
   "file_extension": ".py",
   "mimetype": "text/x-python",
   "name": "python",
   "nbconvert_exporter": "python",
   "pygments_lexer": "ipython3",
   "version": "3.11.4"
  }
 },
 "nbformat": 4,
 "nbformat_minor": 5
}
