{
 "cells": [
  {
   "cell_type": "code",
   "execution_count": 1,
   "id": "17e45e1e",
   "metadata": {},
   "outputs": [],
   "source": [
    "import torch\n",
    "def get_per_head_fixed_mask_causal(batch_length, mask_percents, flag, soft, device, soft_penalty=-1.0) -> torch.Tensor:\n",
    "    num_heads = len(mask_percents)\n",
    "    mask = torch.full((1, num_heads, batch_length, batch_length), float('-inf'), device=device)\n",
    "    for h in range(num_heads):\n",
    "        indices = torch.tril_indices(batch_length, batch_length, offset=0, device=device)\n",
    "        mask[0, h, indices[0], indices[1]] = 0.0\n",
    "        \n",
    "        for i in range(1, batch_length):\n",
    "            idx = torch.arange(0, i, device=device)\n",
    "            num_tokens = min(int(len(idx) * mask_percents[h]), len(idx))\n",
    "            if num_tokens > 0:\n",
    "                if not flag:\n",
    "                    to_mask = idx[:num_tokens]\n",
    "                else:\n",
    "                    to_mask = idx[torch.randperm(len(idx), device=device)[:num_tokens]]\n",
    "                if soft:\n",
    "                    mask[0, h, i, to_mask] = soft_penalty\n",
    "                else:\n",
    "                    mask[0, h, i, to_mask] = float('-inf')\n",
    "    return mask"
   ]
  },
  {
   "cell_type": "code",
   "execution_count": 7,
   "id": "21d72ab3",
   "metadata": {},
   "outputs": [
    {
     "name": "stderr",
     "output_type": "stream",
     "text": [
      "/Users/himanshubhenwal/Desktop/storm-experiments/mask_visualization.py:192: UserWarning: This figure includes Axes that are not compatible with tight_layout, so results might be incorrect.\n",
      "  plt.tight_layout(rect=[0, 0.03, 1, 0.92])\n"
     ]
    }
   ],
   "source": [
    "from mask_visualization import visualize_multi_head_masks, quick_demo\n",
    "\n",
    "# This will now work perfectly!\n",
    "fig = visualize_multi_head_masks(\n",
    "    batch_length=64,\n",
    "    mask_percents=[0.0, 0.0357, 0.0714, 0.1071, 0.1429, 0.1786, 0.2143, 0.25],\n",
    "    flag=False,     # Sequential masking\n",
    "    soft=False,      # Soft penalties\n",
    "    device='cpu'\n",
    ")\n",
    "fig.savefig('my_masks.png')"
   ]
  },
  {
   "cell_type": "code",
   "execution_count": 6,
   "id": "ea9876d0",
   "metadata": {},
   "outputs": [
    {
     "name": "stdout",
     "output_type": "stream",
     "text": [
      "StateMaskGate(\n",
      "  (net): Sequential(\n",
      "    (0): Linear(in_features=1536, out_features=128, bias=True)\n",
      "    (1): ReLU(inplace=True)\n",
      "    (2): Linear(in_features=128, out_features=1, bias=True)\n",
      "  )\n",
      ")\n"
     ]
    }
   ],
   "source": [
    "import torch\n",
    "import torch.nn as nn\n",
    "\n",
    "class StateMaskGate(nn.Module):\n",
    "    \"\"\"Time-step action blinding gate (paper-aligned StateMask integration).\n",
    "\n",
    "    Maps the agent's current latent (feature embedding) to a gate probability\n",
    "    g_t in (0, 1). At rollout time, sample Bernoulli(g_t) to decide whether to\n",
    "    pass the policy action through (g_t=1) or blind to a random action (g_t=0).\n",
    "\n",
    "    This module is trained separately (e.g., periodically) to preserve the\n",
    "    agent's action distribution (fidelity) while encouraging more blinding\n",
    "    (sparsity), decoupled from the main RL objective.\n",
    "    \"\"\"\n",
    "\n",
    "    def __init__(self, feat_dim: int, hidden_dim: int = 128):\n",
    "        super().__init__()\n",
    "        self.net = nn.Sequential(\n",
    "            nn.Linear(feat_dim, hidden_dim),\n",
    "            nn.ReLU(inplace=True),\n",
    "            nn.Linear(hidden_dim, 1)\n",
    "        )\n",
    "\n",
    "    def forward(self, last_latent: torch.Tensor) -> torch.Tensor:\n",
    "        \"\"\"Returns gate probability in (0, 1) for each item in the batch.\n",
    "\n",
    "        last_latent: [B, F] embedding of the current time step fed to the actor.\n",
    "        \"\"\"\n",
    "        return torch.sigmoid(self.net(last_latent))  # [B, 1]\n",
    "\n",
    "    @staticmethod\n",
    "    def kl_fidelity_with_uniform(original_logits: torch.Tensor, gate_prob: torch.Tensor) -> torch.Tensor:\n",
    "        \"\"\"KL fidelity between original policy and a masked mixture with uniform.\n",
    "\n",
    "        Approximates masked action distribution as a convex mixture of the\n",
    "        original policy and a uniform distribution, weighted by gate_prob.\n",
    "        \"\"\"\n",
    "        original_log_probs = original_logits.log_softmax(dim=-1)\n",
    "        original_probs = original_log_probs.exp()\n",
    "        num_actions = original_logits.shape[-1]\n",
    "        uniform_probs = torch.full_like(original_probs, 1.0 / num_actions)\n",
    "        mixed_probs = gate_prob * original_probs + (1.0 - gate_prob) * uniform_probs\n",
    "        # KL(P || Q) = sum P log(P/Q)\n",
    "        kl = (original_probs * (original_log_probs - mixed_probs.clamp_min(1e-8).log())).sum(dim=-1)\n",
    "        return kl.mean()\n",
    "\n",
    "    @staticmethod\n",
    "    def sparsity_term(gate_prob: torch.Tensor) -> torch.Tensor:\n",
    "        \"\"\"Encourage more blinding: penalize pass-through probability.\n",
    "\n",
    "        Lower gate_prob -> more blinding -> smaller penalty desired when masked.\n",
    "        We penalize mean(gate_prob) to push towards masking non-critical steps.\n",
    "        \"\"\"\n",
    "        return gate_prob.mean()\n",
    "\n",
    "\n",
    "statemask =  StateMaskGate(feat_dim = 1536) # 1024 + 512\n",
    "print(statemask)"
   ]
  },
  {
   "cell_type": "code",
   "execution_count": null,
   "id": "ce6691af",
   "metadata": {},
   "outputs": [],
   "source": []
  }
 ],
 "metadata": {
  "kernelspec": {
   "display_name": "torch2",
   "language": "python",
   "name": "python3"
  },
  "language_info": {
   "codemirror_mode": {
    "name": "ipython",
    "version": 3
   },
   "file_extension": ".py",
   "mimetype": "text/x-python",
   "name": "python",
   "nbconvert_exporter": "python",
   "pygments_lexer": "ipython3",
   "version": "3.11.4"
  }
 },
 "nbformat": 4,
 "nbformat_minor": 5
}
